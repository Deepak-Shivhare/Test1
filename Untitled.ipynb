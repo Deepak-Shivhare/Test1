{
 "cells": [
  {
   "cell_type": "markdown",
   "id": "9881c084-97d8-499e-90f3-00e0b0e6d9fd",
   "metadata": {},
   "source": [
    "# My Jupyter Notebook on IBM Watson Studio"
   ]
  },
  {
   "cell_type": "markdown",
   "id": "b30b9e3c-53de-471d-ad7b-5c59888f7539",
   "metadata": {},
   "source": [
    "**Deepak Shivhare, Data science learner**"
   ]
  },
  {
   "cell_type": "markdown",
   "id": "4dc29d4b-756c-4fac-a05c-0140b9ecf043",
   "metadata": {},
   "source": [
    "*I am interested in data science because this field has a lot of potential to solve the major and minor problems that our world is facing in the present. For example: Health care sector, Transportation field, any field you name it and the data is there.*"
   ]
  },
  {
   "cell_type": "markdown",
   "id": "e2519501-83d8-4b0d-abd2-34071e56183d",
   "metadata": {},
   "source": [
    "### Writing the code in next line to show the sum"
   ]
  },
  {
   "cell_type": "code",
   "execution_count": 1,
   "id": "13a3850c-8123-4e28-94a6-cb0808179b33",
   "metadata": {},
   "outputs": [
    {
     "data": {
      "text/plain": [
       "50"
      ]
     },
     "execution_count": 1,
     "metadata": {},
     "output_type": "execute_result"
    }
   ],
   "source": [
    "10+40"
   ]
  },
  {
   "cell_type": "markdown",
   "id": "a48950b5-d2fd-4cb2-bbdb-8f15f627300e",
   "metadata": {},
   "source": [
    "**Horizontal separator**\n",
    "\n",
    "First line above the horizontal separator\n",
    "___\n",
    "Second line below the horizontal separator\n",
    "\n",
    "**Bulleted list**\n",
    "\n",
    "* Line 1\n",
    "* Line 2\n",
    "\n",
    "**Numbered list**\n",
    "\n",
    "1. First\n",
    "2. Second\n",
    "\n",
    "**Table**\n",
    "\n",
    "|Column1|Column2|\n",
    "|--|--|\n",
    "|a|b|\n",
    "\n",
    "**Hyperlinks**\n",
    "\n",
    "https://www.coursera.org/learn/open-source-tools-for-data-science/ungradedLti/Z1VP1/peer-graded-assignment\n",
    "\n",
    "**Images**\n",
    "\n",
    "from IPython.display import Image\n"
   ]
  }
 ],
 "metadata": {
  "kernelspec": {
   "display_name": "Python",
   "language": "python",
   "name": "conda-env-python-py"
  },
  "language_info": {
   "codemirror_mode": {
    "name": "ipython",
    "version": 3
   },
   "file_extension": ".py",
   "mimetype": "text/x-python",
   "name": "python",
   "nbconvert_exporter": "python",
   "pygments_lexer": "ipython3",
   "version": "3.7.12"
  }
 },
 "nbformat": 4,
 "nbformat_minor": 5
}
